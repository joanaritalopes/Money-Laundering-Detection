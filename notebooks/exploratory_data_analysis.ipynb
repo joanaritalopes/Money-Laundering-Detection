{
 "cells": [
  {
   "cell_type": "code",
   "execution_count": null,
   "id": "67a1ce6d",
   "metadata": {},
   "outputs": [],
   "source": [
    "# 4. EDA\n",
    "\n",
    "from src.data_preparation import df_merged\n"
   ]
  },
  {
   "cell_type": "code",
   "execution_count": null,
   "id": "1cabda98",
   "metadata": {},
   "outputs": [],
   "source": [
    "def basic_checks(self, df):\n",
    "    print('--------Info--------')\n",
    "    print(df.info())\n",
    "    print('--------Duplicates--------')\n",
    "    print(df.loc[df.duplicated()])\n",
    "    print('--------Unique values in categorical variables--------')\n",
    "    for col in df.select_dtypes(include='object'):\n",
    "        print(col, df[col].nunique())"
   ]
  },
  {
   "cell_type": "code",
   "execution_count": null,
   "id": "c19d6ebd",
   "metadata": {},
   "outputs": [],
   "source": [
    "# Detect outliers in the transaction amount -> given that I am trying to detect for fraudulent spikes, suspicious account activity, unusual transaction,\n",
    "# and those outliers might be a sign of thay, will not remove them. such patterns might be useful to train the models\n",
    "def make_boxplot(df, col):\n",
    "    plt.boxplot(df[col])\n",
    "    plt.title('Box Plot')\n",
    "    plt.show()\n",
    "\n",
    "\n",
    "make_boxplot(df_merged, 'Amount Paid')"
   ]
  }
 ],
 "metadata": {
  "kernelspec": {
   "display_name": "pyenv",
   "language": "python",
   "name": "python3"
  },
  "language_info": {
   "name": "python",
   "version": "3.13.5"
  }
 },
 "nbformat": 4,
 "nbformat_minor": 5
}
